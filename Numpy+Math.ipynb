{
  "nbformat": 4,
  "nbformat_minor": 0,
  "metadata": {
    "colab": {
      "provenance": [],
      "authorship_tag": "ABX9TyMBPCA1uPqFp6dFXMxI8EM5",
      "include_colab_link": true
    },
    "kernelspec": {
      "name": "python3",
      "display_name": "Python 3"
    },
    "language_info": {
      "name": "python"
    }
  },
  "cells": [
    {
      "cell_type": "markdown",
      "metadata": {
        "id": "view-in-github",
        "colab_type": "text"
      },
      "source": [
        "<a href=\"https://colab.research.google.com/github/abs-sharma/pyscript-gp/blob/main/Numpy%2BMath.ipynb\" target=\"_parent\"><img src=\"https://colab.research.google.com/assets/colab-badge.svg\" alt=\"Open In Colab\"/></a>"
      ]
    },
    {
      "cell_type": "code",
      "execution_count": 1,
      "metadata": {
        "id": "mmavHvCyNMWf"
      },
      "outputs": [],
      "source": [
        "import numpy as np\n",
        "f = np.linspace(4,0)\n",
        "#linspace"
      ]
    },
    {
      "cell_type": "code",
      "source": [
        "import math\n",
        "math.exp(3)"
      ],
      "metadata": {
        "colab": {
          "base_uri": "https://localhost:8080/"
        },
        "id": "4BCRIst2Ngth",
        "outputId": "d18d8b93-8d63-4c7d-ee16-ad0bcc63c399"
      },
      "execution_count": 3,
      "outputs": [
        {
          "output_type": "execute_result",
          "data": {
            "text/plain": [
              "20.085536923187668"
            ]
          },
          "metadata": {},
          "execution_count": 3
        }
      ]
    },
    {
      "cell_type": "code",
      "source": [
        "math.sqrt(8)"
      ],
      "metadata": {
        "colab": {
          "base_uri": "https://localhost:8080/"
        },
        "id": "n78QopaaOf9M",
        "outputId": "3074395e-5623-458e-966c-264c1ac58391"
      },
      "execution_count": 4,
      "outputs": [
        {
          "output_type": "execute_result",
          "data": {
            "text/plain": [
              "2.8284271247461903"
            ]
          },
          "metadata": {},
          "execution_count": 4
        }
      ]
    },
    {
      "cell_type": "code",
      "source": [
        "import random\n",
        "random.sample([8,9,0,0,9,0],4)"
      ],
      "metadata": {
        "colab": {
          "base_uri": "https://localhost:8080/"
        },
        "id": "-mBCeM5WOsSd",
        "outputId": "5312b875-cf24-41f2-d309-bc213240dd16"
      },
      "execution_count": 5,
      "outputs": [
        {
          "output_type": "execute_result",
          "data": {
            "text/plain": [
              "[9, 8, 9, 0]"
            ]
          },
          "metadata": {},
          "execution_count": 5
        }
      ]
    },
    {
      "cell_type": "code",
      "source": [
        "#compound interest\n",
        "principal = float(input(\"principal:\"))\n",
        "interest = float(input(\"interest:\"))\n",
        "time = float(input(\"time:\"))\n",
        "total = principal * math.pow(1+(interest/100),time)\n",
        "print(total-principal)"
      ],
      "metadata": {
        "colab": {
          "base_uri": "https://localhost:8080/"
        },
        "id": "e1HVXrgASH7B",
        "outputId": "2de357d7-71cf-4460-de14-bb306df88dfa"
      },
      "execution_count": 9,
      "outputs": [
        {
          "output_type": "stream",
          "name": "stdout",
          "text": [
            "principal:100\n",
            "interest:1.2\n",
            "time:10\n",
            "12.669177789703994\n"
          ]
        }
      ]
    },
    {
      "cell_type": "code",
      "source": [
        "eo = lambda x:\"odd\" if (x/2) else \"even\"\n",
        "eo(9)"
      ],
      "metadata": {
        "colab": {
          "base_uri": "https://localhost:8080/",
          "height": 36
        },
        "id": "WWHUqB4aTNI5",
        "outputId": "05d4a7dd-45bf-4dd8-f7a9-1e2975ff0572"
      },
      "execution_count": 13,
      "outputs": [
        {
          "output_type": "execute_result",
          "data": {
            "text/plain": [
              "'odd'"
            ],
            "application/vnd.google.colaboratory.intrinsic+json": {
              "type": "string"
            }
          },
          "metadata": {},
          "execution_count": 13
        }
      ]
    },
    {
      "cell_type": "code",
      "source": [
        "def sq(x):\n",
        "  return x*x\n",
        "r = [9,0,8,9]\n",
        "set(map(sq,r))"
      ],
      "metadata": {
        "colab": {
          "base_uri": "https://localhost:8080/"
        },
        "id": "t87O-wsBa6Ng",
        "outputId": "648e5d38-39b3-4586-f82a-a973d24c6f9b"
      },
      "execution_count": 15,
      "outputs": [
        {
          "output_type": "execute_result",
          "data": {
            "text/plain": [
              "{0, 64, 81}"
            ]
          },
          "metadata": {},
          "execution_count": 15
        }
      ]
    },
    {
      "cell_type": "code",
      "source": [
        "list(map(lambda x:x*x,r))"
      ],
      "metadata": {
        "colab": {
          "base_uri": "https://localhost:8080/"
        },
        "id": "LmmmcwNcc8fB",
        "outputId": "7f15ac2d-1671-49a5-d195-a05f0bc7fa4b"
      },
      "execution_count": 16,
      "outputs": [
        {
          "output_type": "execute_result",
          "data": {
            "text/plain": [
              "[81, 0, 64, 81]"
            ]
          },
          "metadata": {},
          "execution_count": 16
        }
      ]
    },
    {
      "cell_type": "code",
      "source": [
        "t=[0,1,2,3]\n",
        "w=[9,7,4,5]\n",
        "list(map(lambda x,y:x-y,t,w))"
      ],
      "metadata": {
        "colab": {
          "base_uri": "https://localhost:8080/"
        },
        "id": "ClUunG3bdlEh",
        "outputId": "bc20f919-7093-4428-effc-dd3f56a5bba2"
      },
      "execution_count": 17,
      "outputs": [
        {
          "output_type": "execute_result",
          "data": {
            "text/plain": [
              "[-9, -6, -2, -2]"
            ]
          },
          "metadata": {},
          "execution_count": 17
        }
      ]
    },
    {
      "cell_type": "code",
      "source": [
        "def er(i):\n",
        "  if i%2 :\n",
        "    return i\n",
        "dd= [0,3,2,1,4]\n",
        "list(filter(er,dd))"
      ],
      "metadata": {
        "colab": {
          "base_uri": "https://localhost:8080/"
        },
        "id": "0phGSHpQeEeG",
        "outputId": "3c51ec49-3643-4b5f-e29f-e011d20252a3"
      },
      "execution_count": 18,
      "outputs": [
        {
          "output_type": "execute_result",
          "data": {
            "text/plain": [
              "[3, 1]"
            ]
          },
          "metadata": {},
          "execution_count": 18
        }
      ]
    },
    {
      "cell_type": "code",
      "source": [
        "list(filter(lambda x:x%2,dd))"
      ],
      "metadata": {
        "colab": {
          "base_uri": "https://localhost:8080/"
        },
        "id": "8zIYyvOeermE",
        "outputId": "4cc76b8c-6f8a-4533-cd75-354cf3750a0e"
      },
      "execution_count": 19,
      "outputs": [
        {
          "output_type": "execute_result",
          "data": {
            "text/plain": [
              "[3, 1]"
            ]
          },
          "metadata": {},
          "execution_count": 19
        }
      ]
    },
    {
      "cell_type": "code",
      "source": [
        "wed = [4,5,5,6,10,6,0,8,77,4]\n"
      ],
      "metadata": {
        "id": "qfP-Bes9fCHY"
      },
      "execution_count": null,
      "outputs": []
    }
  ]
}